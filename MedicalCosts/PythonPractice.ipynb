{
 "cells": [
  {
   "cell_type": "code",
   "execution_count": 1,
   "id": "ccd9522a-d091-406a-ab12-cf258498fa3b",
   "metadata": {},
   "outputs": [],
   "source": [
    "import numpy as numpy\n",
    "import pandas as pd\n",
    "import matplotlib.pyplot as plt"
   ]
  },
  {
   "cell_type": "markdown",
   "id": "b02296de-4c1a-4866-b8ca-4ad8ca41bf68",
   "metadata": {},
   "source": [
    "Function that takes in two numbers and adds them"
   ]
  },
  {
   "cell_type": "code",
   "execution_count": 2,
   "id": "088b378c-397a-4869-a330-9bcd85d0a8c8",
   "metadata": {},
   "outputs": [],
   "source": [
    "def add_numbers(a, b):\n",
    "    c = a + b\n",
    "    print(c)"
   ]
  },
  {
   "cell_type": "code",
   "execution_count": 3,
   "id": "4fec0d5e-3112-4fbb-8995-e83474d34ccf",
   "metadata": {},
   "outputs": [
    {
     "name": "stdout",
     "output_type": "stream",
     "text": [
      "6\n",
      "None\n"
     ]
    }
   ],
   "source": [
    "print(add_numbers(1,5))"
   ]
  },
  {
   "cell_type": "markdown",
   "id": "4ff257f9-35a4-4f71-a48c-0a006700de5f",
   "metadata": {},
   "source": [
    "Function that takes in two numbers and returns the max"
   ]
  },
  {
   "cell_type": "code",
   "execution_count": 4,
   "id": "1abea9be-d813-4bed-9728-c227ded38cea",
   "metadata": {},
   "outputs": [],
   "source": [
    "def max_number(a, b):\n",
    "    c = max([a,b])\n",
    "    print(c)"
   ]
  },
  {
   "cell_type": "code",
   "execution_count": 6,
   "id": "e717d80a-9d20-4ae3-91bb-5dd76bf9c255",
   "metadata": {},
   "outputs": [
    {
     "name": "stdout",
     "output_type": "stream",
     "text": [
      "12\n"
     ]
    }
   ],
   "source": [
    "max_number(5,12)"
   ]
  },
  {
   "cell_type": "markdown",
   "id": "46606061-e09c-45fd-a815-620cf5d480bd",
   "metadata": {},
   "source": [
    "Function fizz_buzz(n) that prints the numbers from 1 to n but for multiples of three print \"Fizz\" instead of the number and for multiples of five print \"Buzz\". For numbers which are multiples of both three and five print \"FizzBuzz\"."
   ]
  },
  {
   "cell_type": "code",
   "execution_count": 7,
   "id": "ab55d62d-7bfb-4d7d-a8c0-3901435738ba",
   "metadata": {},
   "outputs": [],
   "source": [
    "def fizz_buzz(n):\n",
    "    for i in range(1, n+1):\n",
    "        if i % 3 == 0 and i % 5 == 0:\n",
    "            print(\"FizzBuzz\")\n",
    "        elif i % 3 == 0:\n",
    "            print(\"Fizz\")\n",
    "        elif i % 5 == 0:\n",
    "            print(\"Buzz\")\n",
    "        else:\n",
    "            print(i)"
   ]
  },
  {
   "cell_type": "code",
   "execution_count": 8,
   "id": "fd2237cc-0009-4d9f-8350-ae7de20e2504",
   "metadata": {},
   "outputs": [
    {
     "name": "stdout",
     "output_type": "stream",
     "text": [
      "1\n",
      "2\n",
      "Fizz\n"
     ]
    }
   ],
   "source": [
    "fizz_buzz(3)"
   ]
  },
  {
   "cell_type": "markdown",
   "id": "19f2daf3-446d-45b8-abb8-6d16a2e228fc",
   "metadata": {},
   "source": [
    "Function reverse_string(s) that takes a string and returns it reversed."
   ]
  },
  {
   "cell_type": "code",
   "execution_count": 22,
   "id": "1badfa26-e646-4468-886c-c73d421f8f87",
   "metadata": {},
   "outputs": [],
   "source": [
    "def reverse_string(string):\n",
    "    print(string[::-1])"
   ]
  },
  {
   "cell_type": "code",
   "execution_count": 23,
   "id": "da528fd0-1ecd-47e6-bb59-8c115e377fcc",
   "metadata": {},
   "outputs": [
    {
     "name": "stdout",
     "output_type": "stream",
     "text": [
      "esuap\n"
     ]
    }
   ],
   "source": [
    "reverse_string(\"pause\")"
   ]
  },
  {
   "cell_type": "markdown",
   "id": "a1f6141b-939d-4f55-b4c1-2b0d97c51e9a",
   "metadata": {},
   "source": [
    "Function is_palindrome(s) that checks if a given string is a palindrome (reads the same forward and backward) and returns True if it is and False if it isn't."
   ]
  },
  {
   "cell_type": "code",
   "execution_count": 24,
   "id": "46c4a74d-d557-49fb-80a4-addebdcc0a7b",
   "metadata": {},
   "outputs": [],
   "source": [
    "def is_palindrome(string):\n",
    "    if string == string[::-1]:\n",
    "        print(\"True\")\n",
    "    else:\n",
    "        print(\"False\")"
   ]
  },
  {
   "cell_type": "code",
   "execution_count": 25,
   "id": "aa4df9bc-6bb4-4dd3-b9bf-0910d2d4713d",
   "metadata": {},
   "outputs": [
    {
     "name": "stdout",
     "output_type": "stream",
     "text": [
      "True\n"
     ]
    }
   ],
   "source": [
    "is_palindrome(\"poop\")"
   ]
  },
  {
   "cell_type": "markdown",
   "id": "3b0f94e3-22b0-4a1a-8502-63e6a2331ffd",
   "metadata": {},
   "source": [
    "Function factorial(n) that calculates and returns the factorial of a number n."
   ]
  },
  {
   "cell_type": "code",
   "execution_count": 54,
   "id": "071caeb2-9572-4480-8db5-31f0c7c64a48",
   "metadata": {},
   "outputs": [],
   "source": [
    "def factorial(n):\n",
    "    result = 1\n",
    "    for i in range(1,n+1):\n",
    "        result *= i\n",
    "        \n",
    "    return result\n",
    "    print(result)"
   ]
  },
  {
   "cell_type": "code",
   "execution_count": 55,
   "id": "f542f92f-d349-4650-a191-e3376699342b",
   "metadata": {},
   "outputs": [
    {
     "data": {
      "text/plain": [
       "24"
      ]
     },
     "execution_count": 55,
     "metadata": {},
     "output_type": "execute_result"
    }
   ],
   "source": [
    "factorial(4)"
   ]
  },
  {
   "cell_type": "markdown",
   "id": "314cff0b-5e9d-44c6-9c27-84d6169444fb",
   "metadata": {},
   "source": [
    "Function fibonacci(n) that returns the nth number in the Fibonacci sequence."
   ]
  },
  {
   "cell_type": "code",
   "execution_count": 63,
   "id": "eb45cfa1-b4ce-4c10-9701-9e7b89cf2557",
   "metadata": {},
   "outputs": [],
   "source": [
    "def fibonacci(n):\n",
    "    fib_sequence = [0, 1]\n",
    "    while len(fib_sequence) < n:\n",
    "        fib_sequence.append(fib_sequence[-1] + fib_sequence[-2])\n",
    "    return fib_sequence\n",
    "    print(fib_sequence)\n"
   ]
  },
  {
   "cell_type": "code",
   "execution_count": 64,
   "id": "80f11d97-9c3c-49ab-8fd8-3a51ade74ee1",
   "metadata": {},
   "outputs": [
    {
     "name": "stdout",
     "output_type": "stream",
     "text": [
      "[0, 1, 1, 2, 3, 5, 8, 13, 21, 34]\n"
     ]
    }
   ],
   "source": [
    "print(fibonacci(10))"
   ]
  },
  {
   "cell_type": "markdown",
   "id": "605ae8e6-5f96-4d43-abb0-ea1a136acf2f",
   "metadata": {},
   "source": [
    "Function is_prime(n) that checks if a given number is prime and returns True if it is and False if it isn't."
   ]
  },
  {
   "cell_type": "markdown",
   "id": "32c81a0f-4125-4767-b482-8611696d33b7",
   "metadata": {},
   "source": [
    "Function find_longest_word(word_list) that takes a list of words and returns the longest one."
   ]
  },
  {
   "cell_type": "code",
   "execution_count": 115,
   "id": "c74a36bd-41ac-448c-8031-0d20a2588634",
   "metadata": {},
   "outputs": [],
   "source": [
    "words = ['how','many','words','do','you','hypothesize']"
   ]
  },
  {
   "cell_type": "code",
   "execution_count": 116,
   "id": "ecfecd8f-170d-47a0-af32-40959af52999",
   "metadata": {},
   "outputs": [
    {
     "data": {
      "text/plain": [
       "list"
      ]
     },
     "execution_count": 116,
     "metadata": {},
     "output_type": "execute_result"
    }
   ],
   "source": [
    "type(words)"
   ]
  },
  {
   "cell_type": "code",
   "execution_count": 121,
   "id": "832533b4-55a6-445c-a627-39416094b8fd",
   "metadata": {},
   "outputs": [],
   "source": [
    "def find_longest_word(word_list):\n",
    "    for word in word_list:\n",
    "        longest = ''\n",
    "        if len(word) > len(longest):\n",
    "            longest = word\n",
    "    print(longest)\n",
    "    #return print(word)"
   ]
  },
  {
   "cell_type": "code",
   "execution_count": 122,
   "id": "31cbc628-0939-4db8-8d75-68752f095c38",
   "metadata": {},
   "outputs": [
    {
     "name": "stdout",
     "output_type": "stream",
     "text": [
      "hypothesize\n"
     ]
    }
   ],
   "source": [
    "find_longest_word(words)"
   ]
  },
  {
   "cell_type": "markdown",
   "id": "11e68cb3-53ad-473c-9193-d1ef5bf20ddd",
   "metadata": {},
   "source": [
    "Function word_count(s) that takes a string and returns a dictionary where the keys are the unique words in the string and the values are the counts of those words"
   ]
  },
  {
   "cell_type": "code",
   "execution_count": 86,
   "id": "5f698319-b596-4442-978a-11dfddf5ba9b",
   "metadata": {},
   "outputs": [],
   "source": [
    "sample = 'Whats up bruh, how is it going. I have been thinking. I may be able to fly. Maybe I am superman?'"
   ]
  },
  {
   "cell_type": "code",
   "execution_count": 66,
   "id": "446a4a68-e440-480d-877e-38530027f82d",
   "metadata": {},
   "outputs": [],
   "source": [
    "def dePunc(string):\n",
    "    for symbol in string:\n",
    "        if symbol in punc:\n",
    "            string = string.replace(symbol,\"\")\n"
   ]
  },
  {
   "cell_type": "code",
   "execution_count": 67,
   "id": "c876ae78-7090-4f52-9cba-7585bd60f0d5",
   "metadata": {},
   "outputs": [],
   "source": [
    "dePunc(sample)"
   ]
  },
  {
   "cell_type": "code",
   "execution_count": 68,
   "id": "2d17aa8e-7489-4b87-ae39-fc1b73a68319",
   "metadata": {},
   "outputs": [
    {
     "data": {
      "text/plain": [
       "'Whats up bruh, how is it going. I have been thinking. I may be able to fly. Maybe I am superman?'"
      ]
     },
     "execution_count": 68,
     "metadata": {},
     "output_type": "execute_result"
    }
   ],
   "source": [
    "sample"
   ]
  },
  {
   "cell_type": "code",
   "execution_count": 80,
   "id": "ab41ed43-4ab6-4638-8a8b-d89c67a4affd",
   "metadata": {},
   "outputs": [],
   "source": [
    "punc = '! ( ) - [ ] { } ; :  \\ , < > . / ? @ # $ % ^ & * _ ~ ' \n",
    "\n",
    "punc = punc.split()"
   ]
  },
  {
   "cell_type": "code",
   "execution_count": 81,
   "id": "eaaab986-b8d4-4eae-b751-691395bc3ecb",
   "metadata": {},
   "outputs": [
    {
     "data": {
      "text/plain": [
       "['!',\n",
       " '(',\n",
       " ')',\n",
       " '-',\n",
       " '[',\n",
       " ']',\n",
       " '{',\n",
       " '}',\n",
       " ';',\n",
       " ':',\n",
       " '\\\\',\n",
       " ',',\n",
       " '<',\n",
       " '>',\n",
       " '.',\n",
       " '/',\n",
       " '?',\n",
       " '@',\n",
       " '#',\n",
       " '$',\n",
       " '%',\n",
       " '^',\n",
       " '&',\n",
       " '*',\n",
       " '_',\n",
       " '~']"
      ]
     },
     "execution_count": 81,
     "metadata": {},
     "output_type": "execute_result"
    }
   ],
   "source": [
    "punc"
   ]
  },
  {
   "cell_type": "code",
   "execution_count": 85,
   "id": "50fb8814-da96-4b73-8b99-48fbc3117ab6",
   "metadata": {},
   "outputs": [],
   "source": [
    "def dePunc(string):\n",
    "    for symbol in string:\n",
    "        if symbol in punc:\n",
    "            string = string.replace(symbol,\"\")\n"
   ]
  },
  {
   "cell_type": "code",
   "execution_count": 87,
   "id": "03f1bc39-7990-472f-b635-747c9276fde1",
   "metadata": {},
   "outputs": [],
   "source": [
    "dePunc(sample)"
   ]
  },
  {
   "cell_type": "code",
   "execution_count": 88,
   "id": "57bd8e73-f3e3-4c49-8178-237f0bae70cc",
   "metadata": {},
   "outputs": [
    {
     "data": {
      "text/plain": [
       "'Whats up bruh, how is it going. I have been thinking. I may be able to fly. Maybe I am superman?'"
      ]
     },
     "execution_count": 88,
     "metadata": {},
     "output_type": "execute_result"
    }
   ],
   "source": [
    "sample"
   ]
  },
  {
   "cell_type": "code",
   "execution_count": 82,
   "id": "1acfa412-3d3e-4de6-8ea0-7ae66e43af6f",
   "metadata": {},
   "outputs": [],
   "source": [
    "def word_count(string):\n",
    "    words = string.split()\n",
    "    word_counts= {}\n",
    "    #punc = '''!()-[]{};:'\"\\,<>./?@#$%^&*_~'''\n",
    "    \n",
    "    for symbol in string:\n",
    "        if symbol in punc:\n",
    "            string = string.replace(symbol,\"\")\n",
    "            \n",
    "    for word in words:\n",
    "        if word in word_counts:\n",
    "            word_counts[word] += 1\n",
    "        else:\n",
    "            word_counts[word] = 1\n",
    "            \n",
    "    return word_counts"
   ]
  },
  {
   "cell_type": "code",
   "execution_count": 83,
   "id": "ec9a1d52-92a2-485d-8cd3-e412cab484aa",
   "metadata": {},
   "outputs": [
    {
     "data": {
      "text/plain": [
       "{'Whats': 1,\n",
       " 'up': 1,\n",
       " 'bruh,': 1,\n",
       " 'how': 1,\n",
       " 'is': 1,\n",
       " 'it': 1,\n",
       " 'going.': 1,\n",
       " 'I': 3,\n",
       " 'have': 1,\n",
       " 'been': 1,\n",
       " 'thinking.': 1,\n",
       " 'may': 1,\n",
       " 'be': 1,\n",
       " 'able': 1,\n",
       " 'to': 1,\n",
       " 'fly.': 1,\n",
       " 'Maybe': 1,\n",
       " 'am': 1,\n",
       " 'superman?': 1}"
      ]
     },
     "execution_count": 83,
     "metadata": {},
     "output_type": "execute_result"
    }
   ],
   "source": [
    "word_count(sample)"
   ]
  },
  {
   "cell_type": "code",
   "execution_count": 22,
   "id": "6198f26b-276f-4025-ba9e-389487ed4bb1",
   "metadata": {},
   "outputs": [
    {
     "name": "stdout",
     "output_type": "stream",
     "text": [
      "Whats up bruh, how is it going. I have been thinking. I may be able to fly. Maybe I am superman?\n"
     ]
    }
   ],
   "source": [
    "print(sample)"
   ]
  },
  {
   "cell_type": "markdown",
   "id": "60a9d895-2b35-4904-8e42-e25f15efb818",
   "metadata": {},
   "source": [
    "Function is_anagram(s1, s2) that checks if two given strings are anagrams (contain the same characters with the same counts) and returns True if they are and False if they aren't."
   ]
  },
  {
   "cell_type": "code",
   "execution_count": 24,
   "id": "4968ec0a-aa07-47b8-8fd7-de3f18f41fd4",
   "metadata": {},
   "outputs": [],
   "source": [
    "def is_anagram(word1, word2):\n",
    "    word1_counts = {}\n",
    "    word2_counts = {}\n",
    "    \n",
    "    for letter in word1:\n",
    "        \n",
    "           \n",
    "        else:\n",
    "            word_counts[word] = 1\n",
    "            \n",
    "    return word_counts"
   ]
  },
  {
   "cell_type": "code",
   "execution_count": 25,
   "id": "12c5c966-ac01-4891-91a2-d75cb082f351",
   "metadata": {},
   "outputs": [
    {
     "name": "stdout",
     "output_type": "stream",
     "text": [
      ",\n",
      ".\n",
      ".\n",
      ".\n",
      "?\n"
     ]
    }
   ],
   "source": []
  },
  {
   "cell_type": "code",
   "execution_count": null,
   "id": "ad9a6e24-dfdf-4f45-95ff-c782cbbe7ced",
   "metadata": {},
   "outputs": [],
   "source": []
  }
 ],
 "metadata": {
  "kernelspec": {
   "display_name": "Python 3 (ipykernel)",
   "language": "python",
   "name": "python3"
  },
  "language_info": {
   "codemirror_mode": {
    "name": "ipython",
    "version": 3
   },
   "file_extension": ".py",
   "mimetype": "text/x-python",
   "name": "python",
   "nbconvert_exporter": "python",
   "pygments_lexer": "ipython3",
   "version": "3.10.9"
  }
 },
 "nbformat": 4,
 "nbformat_minor": 5
}
